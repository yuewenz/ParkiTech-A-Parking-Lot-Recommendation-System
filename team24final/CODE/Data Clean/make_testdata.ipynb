{
 "cells": [
  {
   "cell_type": "code",
   "execution_count": 13,
   "metadata": {},
   "outputs": [],
   "source": [
    "import pandas as pd\n",
    "import numpy as np\n",
    "import matplotlib.pyplot as plt\n",
    "from joblib import dump, load\n",
    "from datetime import datetime, timedelta\n",
    "from datetime import date\n",
    "import pytz\n",
    "from dateutil import parser\n",
    "\n",
    "import warnings\n",
    "warnings.filterwarnings('ignore')"
   ]
  },
  {
   "cell_type": "code",
   "execution_count": 14,
   "metadata": {},
   "outputs": [],
   "source": [
    "areas_ = []\n",
    "for i in range(9):\n",
    "    filename = 'area' + str(i) + '.csv'\n",
    "    areas_.append(pd.read_csv(filename))"
   ]
  },
  {
   "cell_type": "code",
   "execution_count": 15,
   "metadata": {},
   "outputs": [],
   "source": [
    "areas = pd.DataFrame(columns={'segmentid','time','occupied'})\n",
    "for i in range(9):\n",
    "    area_ = areas_[i][['segmentid','timestamp_hour','avg_occupied']]\n",
    "    area_ = area_.rename(columns={'timestamp_hour':'time','avg_occupied':'occupied'})\n",
    "    area_ = area_.fillna(0)\n",
    "    for each in pd.unique(area_['segmentid']):\n",
    "        areas = areas.append(area_[area_['segmentid']==each])\n",
    "areas['occupied'] = np.round(areas['occupied'])"
   ]
  },
  {
   "cell_type": "code",
   "execution_count": 16,
   "metadata": {},
   "outputs": [],
   "source": [
    "areas['weekday'] = 0"
   ]
  },
  {
   "cell_type": "code",
   "execution_count": 17,
   "metadata": {},
   "outputs": [],
   "source": [
    "areas.to_csv('testdata.csv', index=False)"
   ]
  },
  {
   "cell_type": "code",
   "execution_count": 18,
   "metadata": {},
   "outputs": [],
   "source": [
    "all_lots = pd.read_csv('testdata.csv')\n",
    "all_lots['weekday'] = 0\n",
    "for i in range(len(all_lots)):\n",
    "    all_lots.at[i,'weekday'] = date.weekday(parser.parse(all_lots.at[i,'time']))\n",
    "    all_lots.at[i,'time'] = parser.parse(all_lots.at[i,'time']).hour"
   ]
  },
  {
   "cell_type": "code",
   "execution_count": 19,
   "metadata": {},
   "outputs": [],
   "source": [
    "all_lots.to_csv('testdata.csv', index=False)"
   ]
  },
  {
   "cell_type": "code",
   "execution_count": 20,
   "metadata": {},
   "outputs": [
    {
     "data": {
      "text/plain": [
       "array([ 0.,  1.,  2.,  3.,  6.,  5.,  8.,  9., 10.,  7., 11.,  4., 12.,\n",
       "       13., 14., 16., 15., 17., 18., 25., 21., 20., 19., 23., 24., 26.,\n",
       "       22., 27., 28., 30., 31., 32., 29., 33., 34.])"
      ]
     },
     "execution_count": 20,
     "metadata": {},
     "output_type": "execute_result"
    }
   ],
   "source": [
    "pd.unique(all_lots['occupied'])"
   ]
  },
  {
   "cell_type": "code",
   "execution_count": 21,
   "metadata": {},
   "outputs": [
    {
     "data": {
      "text/html": [
       "<div>\n",
       "<style scoped>\n",
       "    .dataframe tbody tr th:only-of-type {\n",
       "        vertical-align: middle;\n",
       "    }\n",
       "\n",
       "    .dataframe tbody tr th {\n",
       "        vertical-align: top;\n",
       "    }\n",
       "\n",
       "    .dataframe thead th {\n",
       "        text-align: right;\n",
       "    }\n",
       "</style>\n",
       "<table border=\"1\" class=\"dataframe\">\n",
       "  <thead>\n",
       "    <tr style=\"text-align: right;\">\n",
       "      <th></th>\n",
       "      <th>occupied</th>\n",
       "      <th>segmentid</th>\n",
       "      <th>time</th>\n",
       "      <th>weekday</th>\n",
       "    </tr>\n",
       "  </thead>\n",
       "  <tbody>\n",
       "    <tr>\n",
       "      <th>0</th>\n",
       "      <td>0.0</td>\n",
       "      <td>305002</td>\n",
       "      <td>2013-06-13T00:00:00.000Z</td>\n",
       "      <td>0</td>\n",
       "    </tr>\n",
       "    <tr>\n",
       "      <th>1</th>\n",
       "      <td>0.0</td>\n",
       "      <td>305002</td>\n",
       "      <td>2013-06-13T01:00:00.000Z</td>\n",
       "      <td>0</td>\n",
       "    </tr>\n",
       "    <tr>\n",
       "      <th>2</th>\n",
       "      <td>0.0</td>\n",
       "      <td>305002</td>\n",
       "      <td>2013-06-13T02:00:00.000Z</td>\n",
       "      <td>0</td>\n",
       "    </tr>\n",
       "    <tr>\n",
       "      <th>3</th>\n",
       "      <td>0.0</td>\n",
       "      <td>305002</td>\n",
       "      <td>2013-06-13T03:00:00.000Z</td>\n",
       "      <td>0</td>\n",
       "    </tr>\n",
       "    <tr>\n",
       "      <th>4</th>\n",
       "      <td>0.0</td>\n",
       "      <td>305002</td>\n",
       "      <td>2013-06-13T04:00:00.000Z</td>\n",
       "      <td>0</td>\n",
       "    </tr>\n",
       "    <tr>\n",
       "      <th>...</th>\n",
       "      <td>...</td>\n",
       "      <td>...</td>\n",
       "      <td>...</td>\n",
       "      <td>...</td>\n",
       "    </tr>\n",
       "    <tr>\n",
       "      <th>68539</th>\n",
       "      <td>1.0</td>\n",
       "      <td>830022</td>\n",
       "      <td>2013-07-24T19:00:00.000Z</td>\n",
       "      <td>0</td>\n",
       "    </tr>\n",
       "    <tr>\n",
       "      <th>68540</th>\n",
       "      <td>1.0</td>\n",
       "      <td>830022</td>\n",
       "      <td>2013-07-24T20:00:00.000Z</td>\n",
       "      <td>0</td>\n",
       "    </tr>\n",
       "    <tr>\n",
       "      <th>68541</th>\n",
       "      <td>1.0</td>\n",
       "      <td>830022</td>\n",
       "      <td>2013-07-24T21:00:00.000Z</td>\n",
       "      <td>0</td>\n",
       "    </tr>\n",
       "    <tr>\n",
       "      <th>68542</th>\n",
       "      <td>1.0</td>\n",
       "      <td>830022</td>\n",
       "      <td>2013-07-24T22:00:00.000Z</td>\n",
       "      <td>0</td>\n",
       "    </tr>\n",
       "    <tr>\n",
       "      <th>68543</th>\n",
       "      <td>0.0</td>\n",
       "      <td>830022</td>\n",
       "      <td>2013-07-24T23:00:00.000Z</td>\n",
       "      <td>0</td>\n",
       "    </tr>\n",
       "  </tbody>\n",
       "</table>\n",
       "<p>423360 rows × 4 columns</p>\n",
       "</div>"
      ],
      "text/plain": [
       "       occupied segmentid                      time  weekday\n",
       "0           0.0    305002  2013-06-13T00:00:00.000Z        0\n",
       "1           0.0    305002  2013-06-13T01:00:00.000Z        0\n",
       "2           0.0    305002  2013-06-13T02:00:00.000Z        0\n",
       "3           0.0    305002  2013-06-13T03:00:00.000Z        0\n",
       "4           0.0    305002  2013-06-13T04:00:00.000Z        0\n",
       "...         ...       ...                       ...      ...\n",
       "68539       1.0    830022  2013-07-24T19:00:00.000Z        0\n",
       "68540       1.0    830022  2013-07-24T20:00:00.000Z        0\n",
       "68541       1.0    830022  2013-07-24T21:00:00.000Z        0\n",
       "68542       1.0    830022  2013-07-24T22:00:00.000Z        0\n",
       "68543       0.0    830022  2013-07-24T23:00:00.000Z        0\n",
       "\n",
       "[423360 rows x 4 columns]"
      ]
     },
     "execution_count": 21,
     "metadata": {},
     "output_type": "execute_result"
    }
   ],
   "source": [
    "areas"
   ]
  },
  {
   "cell_type": "code",
   "execution_count": 22,
   "metadata": {},
   "outputs": [
    {
     "ename": "TypeError",
     "evalue": "descriptor 'weekday' requires a 'datetime.date' object but received a 'int'",
     "output_type": "error",
     "traceback": [
      "\u001b[1;31m---------------------------------------------------------------------------\u001b[0m",
      "\u001b[1;31mTypeError\u001b[0m                                 Traceback (most recent call last)",
      "\u001b[1;32m<ipython-input-22-83d061fbb821>\u001b[0m in \u001b[0;36m<module>\u001b[1;34m\u001b[0m\n\u001b[1;32m----> 1\u001b[1;33m \u001b[0mdate\u001b[0m\u001b[1;33m.\u001b[0m\u001b[0mweekday\u001b[0m\u001b[1;33m(\u001b[0m\u001b[0mall_lots\u001b[0m\u001b[1;33m.\u001b[0m\u001b[0mat\u001b[0m\u001b[1;33m[\u001b[0m\u001b[1;36m0\u001b[0m\u001b[1;33m,\u001b[0m\u001b[1;34m'time'\u001b[0m\u001b[1;33m]\u001b[0m\u001b[1;33m)\u001b[0m\u001b[1;33m\u001b[0m\u001b[1;33m\u001b[0m\u001b[0m\n\u001b[0m",
      "\u001b[1;31mTypeError\u001b[0m: descriptor 'weekday' requires a 'datetime.date' object but received a 'int'"
     ]
    }
   ],
   "source": [
    "date.weekday(all_lots.at[0,'time'])"
   ]
  },
  {
   "cell_type": "code",
   "execution_count": null,
   "metadata": {},
   "outputs": [],
   "source": []
  }
 ],
 "metadata": {
  "kernelspec": {
   "display_name": "Python 3",
   "language": "python",
   "name": "python3"
  },
  "language_info": {
   "codemirror_mode": {
    "name": "ipython",
    "version": 3
   },
   "file_extension": ".py",
   "mimetype": "text/x-python",
   "name": "python",
   "nbconvert_exporter": "python",
   "pygments_lexer": "ipython3",
   "version": "3.7.6"
  }
 },
 "nbformat": 4,
 "nbformat_minor": 4
}
